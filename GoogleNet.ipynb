{
  "cells": [
    {
      "cell_type": "markdown",
      "metadata": {
        "id": "IbxXOTLeP5rE"
      },
      "source": [
        "# **Setup**"
      ]
    },
    {
      "cell_type": "code",
      "execution_count": null,
      "metadata": {
        "id": "WuGQushgF06I"
      },
      "outputs": [],
      "source": [
        "import tensorflow as tf\n",
        "from tensorflow import keras\n",
        "from keras.layers import Conv2D, MaxPooling2D, AveragePooling2D, Flatten, GlobalAveragePooling2D, Dense, Dropout\n",
        "import sklearn\n",
        "import numpy as np\n",
        "np.random.seed(42)\n",
        "import matplotlib as mpl\n",
        "import matplotlib.pyplot as plt\n",
        "import os\n",
        "from sklearn.model_selection import train_test_split\n",
        "import pandas as pd\n",
        "from google.colab import files"
      ]
    },
    {
      "cell_type": "markdown",
      "metadata": {
        "id": "q0_Nygy-QIXv"
      },
      "source": [
        "# **Load in the data set. (Theres two different methods)**"
      ]
    },
    {
      "cell_type": "markdown",
      "metadata": {
        "id": "jKZZF93VsXR_"
      },
      "source": [
        "**Straight from Kaggle.**"
      ]
    },
    {
      "cell_type": "markdown",
      "metadata": {
        "id": "M0w7bt_h7fWK"
      },
      "source": [
        "In order for this method to work, you **NEED** to download the kaggle api token and add it to your google drive."
      ]
    },
    {
      "cell_type": "code",
      "execution_count": null,
      "metadata": {
        "colab": {
          "base_uri": "https://localhost:8080/"
        },
        "id": "rJO20RcG00rK",
        "outputId": "885a91d3-465e-407e-da66-8134aec5c6f6"
      },
      "outputs": [
        {
          "output_type": "stream",
          "name": "stdout",
          "text": [
            "Drive already mounted at /content/drive; to attempt to forcibly remount, call drive.mount(\"/content/drive\", force_remount=True).\n"
          ]
        }
      ],
      "source": [
        "from google.colab import drive\n",
        "drive.mount('/content/drive')"
      ]
    },
    {
      "cell_type": "code",
      "execution_count": null,
      "metadata": {
        "id": "bdOJgoj6pLKs"
      },
      "outputs": [],
      "source": [
        "!pip install -q kaggle"
      ]
    },
    {
      "cell_type": "code",
      "execution_count": null,
      "metadata": {
        "id": "NTha5gUbpLAc"
      },
      "outputs": [],
      "source": [
        "!mkdir -p ~/.kaggle\n",
        "!cp /content/drive/MyDrive/kaggle.json ~/.kaggle/kaggle.json"
      ]
    },
    {
      "cell_type": "code",
      "execution_count": null,
      "metadata": {
        "id": "QpeHdstVpVNr"
      },
      "outputs": [],
      "source": [
        "!chmod 600 /root/.kaggle/kaggle.json"
      ]
    },
    {
      "cell_type": "code",
      "execution_count": null,
      "metadata": {
        "colab": {
          "base_uri": "https://localhost:8080/"
        },
        "id": "wR04g-kopVJY",
        "outputId": "fb5f25ec-5e05-43bf-ac8a-de17a1312fb0"
      },
      "outputs": [
        {
          "output_type": "stream",
          "name": "stdout",
          "text": [
            "Downloading animals10.zip to /content\n",
            " 98% 572M/586M [00:06<00:00, 142MB/s]\n",
            "100% 586M/586M [00:06<00:00, 96.7MB/s]\n"
          ]
        }
      ],
      "source": [
        "!kaggle datasets download -d alessiocorrado99/animals10"
      ]
    },
    {
      "cell_type": "code",
      "execution_count": null,
      "metadata": {
        "id": "14Wa_HQkpVHO"
      },
      "outputs": [],
      "source": [
        "!unzip animals10.zip"
      ]
    },
    {
      "cell_type": "markdown",
      "metadata": {
        "id": "BLzRfVap7pOX"
      },
      "source": [
        "# **Local Download (Skip if you did other method)**"
      ]
    },
    {
      "cell_type": "markdown",
      "metadata": {
        "id": "XxRNu9Gkshuc"
      },
      "source": [
        "Other method if you download directly from kaggle, and add it to your google drive. It will unzip the files and add it to drive."
      ]
    },
    {
      "cell_type": "code",
      "execution_count": null,
      "metadata": {
        "id": "mtyKucwDTku9"
      },
      "outputs": [],
      "source": [
        "import zipfile\n",
        "zipref = zipfile.ZipFile('/content/drive/MyDrive/archive.zip','r')\n",
        "zipref.extractall('/tmp')\n",
        "zipref.close"
      ]
    },
    {
      "cell_type": "code",
      "execution_count": null,
      "metadata": {
        "id": "Weasz16TqWD1"
      },
      "outputs": [],
      "source": [
        "!unzip /content/drive/MyDrive/archive.zip"
      ]
    },
    {
      "cell_type": "markdown",
      "metadata": {
        "id": "nf6je1oQpec0"
      },
      "source": [
        "# **Split and create variables for dataset**"
      ]
    },
    {
      "cell_type": "code",
      "execution_count": null,
      "metadata": {
        "id": "7FXRBYUzqhM1"
      },
      "outputs": [],
      "source": [
        "translate = {\"cane\": \"Dog\", \"cavallo\": \"Horse\", \"elefante\": \"Elephant\", \"farfalla\": \"Butterfly\", \"gallina\": \"Chicken\", \"gatto\": \"Cat\", \"mucca\": \"Cow\", \"pecora\": \"Sheep\", \"scoiattolo\": \"Squirrel\", \"ragno\": \"Spider\"}"
      ]
    },
    {
      "cell_type": "code",
      "execution_count": null,
      "metadata": {
        "id": "7KN6Ya-Sp-Sz"
      },
      "outputs": [],
      "source": [
        "fpath = \"/content/raw-img/\"\n",
        "#Creating Dataframe of images' path\n",
        "foldernames = os.listdir(fpath)\n",
        "files, files2, target, target2 = [], [], [], []\n",
        "\n",
        "for i, folder in enumerate(foldernames):\n",
        "    filenames = os.listdir(fpath+ folder);\n",
        "    count = 0\n",
        "    for file in filenames:\n",
        "        # elephant has 1446 imges only. To maintain uniformty of counts among different classes, choose only first 1400 images\n",
        "        #Changed it to 20000 to remove the limit for each class.\n",
        "        if count < 20000:\n",
        "            files.append(fpath + folder + \"/\" + file)\n",
        "            target.append(translate[folder])\n",
        "        else:\n",
        "            files2.append(fpath + folder + \"/\" + file)\n",
        "            target2.append(translate[folder])\n",
        "        count += 1\n",
        "\n",
        "df = pd.DataFrame({'Filepath':files, 'Target':target})\n",
        "dft = pd.DataFrame({'Filepath':files2, 'Target':target2})\n",
        "#split the data into 80/10/10\n",
        "train, other = train_test_split(df, test_size=0.2, random_state = 0)\n",
        "valid, test = train_test_split(other, test_size=.5, random_state = 0)\n"
      ]
    },
    {
      "cell_type": "code",
      "execution_count": null,
      "metadata": {
        "id": "Ln2zRojAp98M"
      },
      "outputs": [],
      "source": [
        "#data augmentation\n",
        "datagen = tf.keras.preprocessing.image.ImageDataGenerator(rescale=1./255,\n",
        "                              shear_range=0.2,\n",
        "                              zoom_range=0.2,\n",
        "                              horizontal_flip=True,\n",
        "                              rotation_range=30, \n",
        "                              width_shift_range=0.1,\n",
        "                              height_shift_range=0.1,\n",
        "                              samplewise_center = True)"
      ]
    },
    {
      "cell_type": "code",
      "execution_count": null,
      "metadata": {
        "colab": {
          "base_uri": "https://localhost:8080/"
        },
        "id": "UiOUbIQ6rMKb",
        "outputId": "8fb40e53-c714-438b-99c2-f900e5549ed6"
      },
      "outputs": [
        {
          "output_type": "stream",
          "name": "stdout",
          "text": [
            "Found 20943 non-validated image filenames belonging to 10 classes.\n",
            "Found 2618 non-validated image filenames belonging to 10 classes.\n",
            "Found 2618 non-validated image filenames belonging to 10 classes.\n"
          ]
        }
      ],
      "source": [
        "#Training data\n",
        "traindata = datagen.flow_from_dataframe(train, \n",
        "                                        x_col = 'Filepath', \n",
        "                                        y_col = 'Target',\n",
        "                                        target_size=(224,224),\n",
        "                                        batch_size=64, \n",
        "                                        interpolation = 'lanczos', \n",
        "                                        validate_filenames = False)\n",
        "#Validation Data\n",
        "validdata = datagen.flow_from_dataframe(valid, \n",
        "                                        x_col = 'Filepath', \n",
        "                                        y_col = 'Target',\n",
        "                                        target_size=(224,224),\n",
        "                                        batch_size=4, \n",
        "                                        interpolation = 'lanczos', \n",
        "                                        validate_filenames = False)\n",
        "#Testing Data\n",
        "testdata = datagen.flow_from_dataframe(test, \n",
        "                                        x_col = 'Filepath', \n",
        "                                        y_col = 'Target',\n",
        "                                        target_size=(224,224),\n",
        "                                        batch_size=4, \n",
        "                                        interpolation = 'lanczos', \n",
        "                                        validate_filenames = False)"
      ]
    },
    {
      "cell_type": "markdown",
      "metadata": {
        "id": "mr7CqVwcijCL"
      },
      "source": [
        "# **Create the Inception Block**"
      ]
    },
    {
      "cell_type": "code",
      "execution_count": null,
      "metadata": {
        "id": "G4MHGzTcP2qX"
      },
      "outputs": [],
      "source": [
        "def Inception(input, filters1, filters2conv1, filters2conv3, filters3conv1, filters3conv5, filters4):\n",
        "  #First 1x1 covolution layer\n",
        "  path1 = tf.keras.layers.Conv2D(filters=filters1,kernel_size=(1,1), activation=\"relu\", padding = \"same\")(input)\n",
        "  #Second path with 1x1 convolution layer and 3x3 convolution layer\n",
        "  path2 = tf.keras.layers.Conv2D(filters=filters2conv1, kernel_size=(1,1), activation=\"relu\", padding = \"same\")(input)\n",
        "  path2 = tf.keras.layers.Conv2D(filters=filters2conv3, kernel_size=(3,3), activation=\"relu\", padding = \"same\")(path2)\n",
        "  #Third path with 1x1 convolution layer and 5x5 convolution layer\n",
        "  path3 = tf.keras.layers.Conv2D(filters=filters3conv1, kernel_size=(1,1), activation=\"relu\", padding = \"same\")(input)\n",
        "  path3 = tf.keras.layers.Conv2D(filters=filters3conv5, kernel_size=(5,5), activation=\"relu\", padding = \"same\")(path3)\n",
        "  #Fourth path with 3x3 Pooling and 3x3 convolution layer\n",
        "  path4 = tf.keras.layers.MaxPooling2D(pool_size=(3,3), strides=(1,1), padding = \"same\")(input)\n",
        "  path4 = tf.keras.layers.Conv2D(filters=filters1, kernel_size=(1,1), activation=\"relu\", padding = \"same\")(path4)\n",
        "  #Output layer\n",
        "  output = tf.keras.layers.concatenate([path1, path2, path3, path4], axis = -1)\n",
        "\n",
        "  return output"
      ]
    },
    {
      "cell_type": "markdown",
      "metadata": {
        "id": "pVVpO8kjicrh"
      },
      "source": [
        "# **Build the neural network**"
      ]
    },
    {
      "cell_type": "code",
      "execution_count": null,
      "metadata": {
        "id": "czRPbg9fP20F"
      },
      "outputs": [],
      "source": [
        "#input shape\n",
        "inputlayer = tf.keras.layers.Input(shape =(224, 224, 3))\n",
        "#Convolution 1\n",
        "conv1 = tf.keras.layers.Conv2D(filters=64, kernel_size=(7,7), strides=2,  activation=\"relu\", padding=\"valid\")(inputlayer)\n",
        "#Pooling 1\n",
        "pooling1 = tf.keras.layers.MaxPooling2D(pool_size=(3,3), strides=2,padding = \"same\")(conv1)\n",
        "#Convolution 2\n",
        "conv2 = tf.keras.layers.Conv2D(filters=64, kernel_size=(1,1), strides=1,  activation=\"relu\", padding=\"same\")(pooling1)\n",
        "#Convolution 3\n",
        "conv3 = tf.keras.layers.Conv2D(filters=192, kernel_size=(3,3), strides=1, activation=\"relu\", padding=\"same\")(conv2)\n",
        "#Pooling 2\n",
        "pooling2 = tf.keras.layers.MaxPool2D(pool_size=(3,3), strides=2, padding = \"same\")(conv3)\n",
        "#Inception Block 1\n",
        "incept1 = Inception(pooling2, 64, 96, 128, 16, 32, 32)\n",
        "#Inception Block 2\n",
        "incept2 = Inception(incept1, 128, 128, 192, 32, 96, 64)\n",
        "#Pooling 3\n",
        "pooling3 = tf.keras.layers.MaxPool2D(pool_size=(3,3), strides=2, padding = \"same\")(incept2)\n",
        "#Inception Block 3\n",
        "incept3 = Inception(pooling3, 192, 96, 208, 16, 48, 64)"
      ]
    },
    {
      "cell_type": "markdown",
      "metadata": {
        "id": "HbFJHmK47d_W"
      },
      "source": [
        "# **First Auxilary Classifier**"
      ]
    },
    {
      "cell_type": "code",
      "execution_count": null,
      "metadata": {
        "id": "-W7s2FYWP25t"
      },
      "outputs": [],
      "source": [
        "aux1pool = tf.keras.layers.AveragePooling2D(pool_size=(5,5), strides = 3)(incept3)\n",
        "aux1conv = tf.keras.layers.Conv2D(filters=128, kernel_size=(1,1), padding=\"same\", activation=\"relu\")(aux1pool)\n",
        "aux1flat = tf.keras.layers.Flatten()(aux1conv)\n",
        "aux1dense1 =  tf.keras.layers.Dense(1024, activation=\"relu\")(aux1flat)\n",
        "aux1dropout = tf.keras.layers.Dropout(.7)(aux1dense1)\n",
        "aux1dense2 =  tf.keras.layers.Dense(10, activation=\"softmax\")(aux1dropout)"
      ]
    },
    {
      "cell_type": "markdown",
      "metadata": {
        "id": "VipRnEnA_fdf"
      },
      "source": [
        "Continue building the neural network"
      ]
    },
    {
      "cell_type": "code",
      "execution_count": null,
      "metadata": {
        "id": "JD7OYDvFP28P"
      },
      "outputs": [],
      "source": [
        "#Inception Block 4\n",
        "incept4 = Inception(incept3, 160, 112, 224, 24, 64, 64)\n",
        "#inception block 5\n",
        "incept5 = Inception(incept4, 128, 128, 256, 24, 64, 64)\n",
        "#Inception block 6\n",
        "incept6 = Inception(incept5, 112, 144, 288, 32, 64, 64)"
      ]
    },
    {
      "cell_type": "markdown",
      "metadata": {
        "id": "xBZMkbbNCbrj"
      },
      "source": [
        "# **Second Auxilary Classifier**"
      ]
    },
    {
      "cell_type": "code",
      "execution_count": null,
      "metadata": {
        "id": "us--Lp4WP2-q"
      },
      "outputs": [],
      "source": [
        "aux2pool = tf.keras.layers.AveragePooling2D(pool_size=(5,5), strides = 3)(incept6)\n",
        "aux2conv = tf.keras.layers.Conv2D(filters=128, kernel_size=(1,1), padding=\"same\", activation=\"relu\")(aux2pool)\n",
        "aux2flat = tf.keras.layers.Flatten()(aux2conv)\n",
        "aux2dense1 =  tf.keras.layers.Dense(1024, activation=\"relu\")(aux2flat)\n",
        "aux2dropout = tf.keras.layers.Dropout(.7)(aux2dense1)\n",
        "aux2dense2 =  tf.keras.layers.Dense(10, activation=\"softmax\")(aux2dropout)"
      ]
    },
    {
      "cell_type": "code",
      "execution_count": null,
      "metadata": {
        "id": "fQAjr6W4P3Ai"
      },
      "outputs": [],
      "source": [
        "#Inception Block 7\n",
        "incept7 = Inception(incept6, 256, 160, 320, 32, 128, 128)\n",
        "#Pooling 4\n",
        "pooling4 = tf.keras.layers.MaxPool2D(pool_size=(3,3), strides=2, padding = \"same\")(incept7)\n",
        "#inception block 8\n",
        "incept8 = Inception(pooling4, 256, 160, 320, 32, 128, 128)\n",
        "#Inception block 9\n",
        "incept9 = Inception(incept8, 384, 192, 384, 48, 128, 128)\n",
        "#Average Pooling\n",
        "avgpool = tf.keras.layers.GlobalAveragePooling2D()(incept9)\n",
        "#Dropout\n",
        "dropout = tf.keras.layers.Dropout(.4)(avgpool)\n",
        "#output\n",
        "outputlayer = tf.keras.layers.Dense(10, activation=\"softmax\")(dropout)\n"
      ]
    },
    {
      "cell_type": "markdown",
      "metadata": {
        "id": "RcZW1YuGL4iP"
      },
      "source": [
        "# **Model Summary**"
      ]
    },
    {
      "cell_type": "code",
      "execution_count": null,
      "metadata": {
        "colab": {
          "base_uri": "https://localhost:8080/"
        },
        "id": "E9mUAsnnEYFr",
        "outputId": "ebc93932-3284-4615-fd47-52a1a4185cec"
      },
      "outputs": [
        {
          "output_type": "stream",
          "name": "stdout",
          "text": [
            "Model: \"InceptionV1\"\n",
            "__________________________________________________________________________________________________\n",
            " Layer (type)                   Output Shape         Param #     Connected to                     \n",
            "==================================================================================================\n",
            " input_1 (InputLayer)           [(None, 224, 224, 3  0           []                               \n",
            "                                )]                                                                \n",
            "                                                                                                  \n",
            " conv2d (Conv2D)                (None, 109, 109, 64  9472        ['input_1[0][0]']                \n",
            "                                )                                                                 \n",
            "                                                                                                  \n",
            " max_pooling2d (MaxPooling2D)   (None, 55, 55, 64)   0           ['conv2d[0][0]']                 \n",
            "                                                                                                  \n",
            " conv2d_1 (Conv2D)              (None, 55, 55, 64)   4160        ['max_pooling2d[0][0]']          \n",
            "                                                                                                  \n",
            " conv2d_2 (Conv2D)              (None, 55, 55, 192)  110784      ['conv2d_1[0][0]']               \n",
            "                                                                                                  \n",
            " max_pooling2d_1 (MaxPooling2D)  (None, 28, 28, 192)  0          ['conv2d_2[0][0]']               \n",
            "                                                                                                  \n",
            " conv2d_4 (Conv2D)              (None, 28, 28, 96)   18528       ['max_pooling2d_1[0][0]']        \n",
            "                                                                                                  \n",
            " conv2d_6 (Conv2D)              (None, 28, 28, 16)   3088        ['max_pooling2d_1[0][0]']        \n",
            "                                                                                                  \n",
            " max_pooling2d_2 (MaxPooling2D)  (None, 28, 28, 192)  0          ['max_pooling2d_1[0][0]']        \n",
            "                                                                                                  \n",
            " conv2d_3 (Conv2D)              (None, 28, 28, 64)   12352       ['max_pooling2d_1[0][0]']        \n",
            "                                                                                                  \n",
            " conv2d_5 (Conv2D)              (None, 28, 28, 128)  110720      ['conv2d_4[0][0]']               \n",
            "                                                                                                  \n",
            " conv2d_7 (Conv2D)              (None, 28, 28, 32)   12832       ['conv2d_6[0][0]']               \n",
            "                                                                                                  \n",
            " conv2d_8 (Conv2D)              (None, 28, 28, 64)   12352       ['max_pooling2d_2[0][0]']        \n",
            "                                                                                                  \n",
            " concatenate (Concatenate)      (None, 28, 28, 288)  0           ['conv2d_3[0][0]',               \n",
            "                                                                  'conv2d_5[0][0]',               \n",
            "                                                                  'conv2d_7[0][0]',               \n",
            "                                                                  'conv2d_8[0][0]']               \n",
            "                                                                                                  \n",
            " conv2d_10 (Conv2D)             (None, 28, 28, 128)  36992       ['concatenate[0][0]']            \n",
            "                                                                                                  \n",
            " conv2d_12 (Conv2D)             (None, 28, 28, 32)   9248        ['concatenate[0][0]']            \n",
            "                                                                                                  \n",
            " max_pooling2d_3 (MaxPooling2D)  (None, 28, 28, 288)  0          ['concatenate[0][0]']            \n",
            "                                                                                                  \n",
            " conv2d_9 (Conv2D)              (None, 28, 28, 128)  36992       ['concatenate[0][0]']            \n",
            "                                                                                                  \n",
            " conv2d_11 (Conv2D)             (None, 28, 28, 192)  221376      ['conv2d_10[0][0]']              \n",
            "                                                                                                  \n",
            " conv2d_13 (Conv2D)             (None, 28, 28, 96)   76896       ['conv2d_12[0][0]']              \n",
            "                                                                                                  \n",
            " conv2d_14 (Conv2D)             (None, 28, 28, 128)  36992       ['max_pooling2d_3[0][0]']        \n",
            "                                                                                                  \n",
            " concatenate_1 (Concatenate)    (None, 28, 28, 544)  0           ['conv2d_9[0][0]',               \n",
            "                                                                  'conv2d_11[0][0]',              \n",
            "                                                                  'conv2d_13[0][0]',              \n",
            "                                                                  'conv2d_14[0][0]']              \n",
            "                                                                                                  \n",
            " max_pooling2d_4 (MaxPooling2D)  (None, 14, 14, 544)  0          ['concatenate_1[0][0]']          \n",
            "                                                                                                  \n",
            " conv2d_16 (Conv2D)             (None, 14, 14, 96)   52320       ['max_pooling2d_4[0][0]']        \n",
            "                                                                                                  \n",
            " conv2d_18 (Conv2D)             (None, 14, 14, 16)   8720        ['max_pooling2d_4[0][0]']        \n",
            "                                                                                                  \n",
            " max_pooling2d_5 (MaxPooling2D)  (None, 14, 14, 544)  0          ['max_pooling2d_4[0][0]']        \n",
            "                                                                                                  \n",
            " conv2d_15 (Conv2D)             (None, 14, 14, 192)  104640      ['max_pooling2d_4[0][0]']        \n",
            "                                                                                                  \n",
            " conv2d_17 (Conv2D)             (None, 14, 14, 208)  179920      ['conv2d_16[0][0]']              \n",
            "                                                                                                  \n",
            " conv2d_19 (Conv2D)             (None, 14, 14, 48)   19248       ['conv2d_18[0][0]']              \n",
            "                                                                                                  \n",
            " conv2d_20 (Conv2D)             (None, 14, 14, 192)  104640      ['max_pooling2d_5[0][0]']        \n",
            "                                                                                                  \n",
            " concatenate_2 (Concatenate)    (None, 14, 14, 640)  0           ['conv2d_15[0][0]',              \n",
            "                                                                  'conv2d_17[0][0]',              \n",
            "                                                                  'conv2d_19[0][0]',              \n",
            "                                                                  'conv2d_20[0][0]']              \n",
            "                                                                                                  \n",
            " conv2d_23 (Conv2D)             (None, 14, 14, 112)  71792       ['concatenate_2[0][0]']          \n",
            "                                                                                                  \n",
            " conv2d_25 (Conv2D)             (None, 14, 14, 24)   15384       ['concatenate_2[0][0]']          \n",
            "                                                                                                  \n",
            " max_pooling2d_6 (MaxPooling2D)  (None, 14, 14, 640)  0          ['concatenate_2[0][0]']          \n",
            "                                                                                                  \n",
            " conv2d_22 (Conv2D)             (None, 14, 14, 160)  102560      ['concatenate_2[0][0]']          \n",
            "                                                                                                  \n",
            " conv2d_24 (Conv2D)             (None, 14, 14, 224)  226016      ['conv2d_23[0][0]']              \n",
            "                                                                                                  \n",
            " conv2d_26 (Conv2D)             (None, 14, 14, 64)   38464       ['conv2d_25[0][0]']              \n",
            "                                                                                                  \n",
            " conv2d_27 (Conv2D)             (None, 14, 14, 160)  102560      ['max_pooling2d_6[0][0]']        \n",
            "                                                                                                  \n",
            " concatenate_3 (Concatenate)    (None, 14, 14, 608)  0           ['conv2d_22[0][0]',              \n",
            "                                                                  'conv2d_24[0][0]',              \n",
            "                                                                  'conv2d_26[0][0]',              \n",
            "                                                                  'conv2d_27[0][0]']              \n",
            "                                                                                                  \n",
            " conv2d_29 (Conv2D)             (None, 14, 14, 128)  77952       ['concatenate_3[0][0]']          \n",
            "                                                                                                  \n",
            " conv2d_31 (Conv2D)             (None, 14, 14, 24)   14616       ['concatenate_3[0][0]']          \n",
            "                                                                                                  \n",
            " max_pooling2d_7 (MaxPooling2D)  (None, 14, 14, 608)  0          ['concatenate_3[0][0]']          \n",
            "                                                                                                  \n",
            " conv2d_28 (Conv2D)             (None, 14, 14, 128)  77952       ['concatenate_3[0][0]']          \n",
            "                                                                                                  \n",
            " conv2d_30 (Conv2D)             (None, 14, 14, 256)  295168      ['conv2d_29[0][0]']              \n",
            "                                                                                                  \n",
            " conv2d_32 (Conv2D)             (None, 14, 14, 64)   38464       ['conv2d_31[0][0]']              \n",
            "                                                                                                  \n",
            " conv2d_33 (Conv2D)             (None, 14, 14, 128)  77952       ['max_pooling2d_7[0][0]']        \n",
            "                                                                                                  \n",
            " concatenate_4 (Concatenate)    (None, 14, 14, 576)  0           ['conv2d_28[0][0]',              \n",
            "                                                                  'conv2d_30[0][0]',              \n",
            "                                                                  'conv2d_32[0][0]',              \n",
            "                                                                  'conv2d_33[0][0]']              \n",
            "                                                                                                  \n",
            " conv2d_35 (Conv2D)             (None, 14, 14, 144)  83088       ['concatenate_4[0][0]']          \n",
            "                                                                                                  \n",
            " conv2d_37 (Conv2D)             (None, 14, 14, 32)   18464       ['concatenate_4[0][0]']          \n",
            "                                                                                                  \n",
            " max_pooling2d_8 (MaxPooling2D)  (None, 14, 14, 576)  0          ['concatenate_4[0][0]']          \n",
            "                                                                                                  \n",
            " conv2d_34 (Conv2D)             (None, 14, 14, 112)  64624       ['concatenate_4[0][0]']          \n",
            "                                                                                                  \n",
            " conv2d_36 (Conv2D)             (None, 14, 14, 288)  373536      ['conv2d_35[0][0]']              \n",
            "                                                                                                  \n",
            " conv2d_38 (Conv2D)             (None, 14, 14, 64)   51264       ['conv2d_37[0][0]']              \n",
            "                                                                                                  \n",
            " conv2d_39 (Conv2D)             (None, 14, 14, 112)  64624       ['max_pooling2d_8[0][0]']        \n",
            "                                                                                                  \n",
            " concatenate_5 (Concatenate)    (None, 14, 14, 576)  0           ['conv2d_34[0][0]',              \n",
            "                                                                  'conv2d_36[0][0]',              \n",
            "                                                                  'conv2d_38[0][0]',              \n",
            "                                                                  'conv2d_39[0][0]']              \n",
            "                                                                                                  \n",
            " conv2d_42 (Conv2D)             (None, 14, 14, 160)  92320       ['concatenate_5[0][0]']          \n",
            "                                                                                                  \n",
            " conv2d_44 (Conv2D)             (None, 14, 14, 32)   18464       ['concatenate_5[0][0]']          \n",
            "                                                                                                  \n",
            " max_pooling2d_9 (MaxPooling2D)  (None, 14, 14, 576)  0          ['concatenate_5[0][0]']          \n",
            "                                                                                                  \n",
            " conv2d_41 (Conv2D)             (None, 14, 14, 256)  147712      ['concatenate_5[0][0]']          \n",
            "                                                                                                  \n",
            " conv2d_43 (Conv2D)             (None, 14, 14, 320)  461120      ['conv2d_42[0][0]']              \n",
            "                                                                                                  \n",
            " conv2d_45 (Conv2D)             (None, 14, 14, 128)  102528      ['conv2d_44[0][0]']              \n",
            "                                                                                                  \n",
            " conv2d_46 (Conv2D)             (None, 14, 14, 256)  147712      ['max_pooling2d_9[0][0]']        \n",
            "                                                                                                  \n",
            " concatenate_6 (Concatenate)    (None, 14, 14, 960)  0           ['conv2d_41[0][0]',              \n",
            "                                                                  'conv2d_43[0][0]',              \n",
            "                                                                  'conv2d_45[0][0]',              \n",
            "                                                                  'conv2d_46[0][0]']              \n",
            "                                                                                                  \n",
            " max_pooling2d_10 (MaxPooling2D  (None, 7, 7, 960)   0           ['concatenate_6[0][0]']          \n",
            " )                                                                                                \n",
            "                                                                                                  \n",
            " conv2d_48 (Conv2D)             (None, 7, 7, 160)    153760      ['max_pooling2d_10[0][0]']       \n",
            "                                                                                                  \n",
            " conv2d_50 (Conv2D)             (None, 7, 7, 32)     30752       ['max_pooling2d_10[0][0]']       \n",
            "                                                                                                  \n",
            " max_pooling2d_11 (MaxPooling2D  (None, 7, 7, 960)   0           ['max_pooling2d_10[0][0]']       \n",
            " )                                                                                                \n",
            "                                                                                                  \n",
            " conv2d_47 (Conv2D)             (None, 7, 7, 256)    246016      ['max_pooling2d_10[0][0]']       \n",
            "                                                                                                  \n",
            " conv2d_49 (Conv2D)             (None, 7, 7, 320)    461120      ['conv2d_48[0][0]']              \n",
            "                                                                                                  \n",
            " conv2d_51 (Conv2D)             (None, 7, 7, 128)    102528      ['conv2d_50[0][0]']              \n",
            "                                                                                                  \n",
            " conv2d_52 (Conv2D)             (None, 7, 7, 256)    246016      ['max_pooling2d_11[0][0]']       \n",
            "                                                                                                  \n",
            " concatenate_7 (Concatenate)    (None, 7, 7, 960)    0           ['conv2d_47[0][0]',              \n",
            "                                                                  'conv2d_49[0][0]',              \n",
            "                                                                  'conv2d_51[0][0]',              \n",
            "                                                                  'conv2d_52[0][0]']              \n",
            "                                                                                                  \n",
            " conv2d_54 (Conv2D)             (None, 7, 7, 192)    184512      ['concatenate_7[0][0]']          \n",
            "                                                                                                  \n",
            " conv2d_56 (Conv2D)             (None, 7, 7, 48)     46128       ['concatenate_7[0][0]']          \n",
            "                                                                                                  \n",
            " max_pooling2d_12 (MaxPooling2D  (None, 7, 7, 960)   0           ['concatenate_7[0][0]']          \n",
            " )                                                                                                \n",
            "                                                                                                  \n",
            " average_pooling2d (AveragePool  (None, 4, 4, 640)   0           ['concatenate_2[0][0]']          \n",
            " ing2D)                                                                                           \n",
            "                                                                                                  \n",
            " average_pooling2d_1 (AveragePo  (None, 4, 4, 576)   0           ['concatenate_5[0][0]']          \n",
            " oling2D)                                                                                         \n",
            "                                                                                                  \n",
            " conv2d_53 (Conv2D)             (None, 7, 7, 384)    369024      ['concatenate_7[0][0]']          \n",
            "                                                                                                  \n",
            " conv2d_55 (Conv2D)             (None, 7, 7, 384)    663936      ['conv2d_54[0][0]']              \n",
            "                                                                                                  \n",
            " conv2d_57 (Conv2D)             (None, 7, 7, 128)    153728      ['conv2d_56[0][0]']              \n",
            "                                                                                                  \n",
            " conv2d_58 (Conv2D)             (None, 7, 7, 384)    369024      ['max_pooling2d_12[0][0]']       \n",
            "                                                                                                  \n",
            " conv2d_21 (Conv2D)             (None, 4, 4, 128)    82048       ['average_pooling2d[0][0]']      \n",
            "                                                                                                  \n",
            " conv2d_40 (Conv2D)             (None, 4, 4, 128)    73856       ['average_pooling2d_1[0][0]']    \n",
            "                                                                                                  \n",
            " concatenate_8 (Concatenate)    (None, 7, 7, 1280)   0           ['conv2d_53[0][0]',              \n",
            "                                                                  'conv2d_55[0][0]',              \n",
            "                                                                  'conv2d_57[0][0]',              \n",
            "                                                                  'conv2d_58[0][0]']              \n",
            "                                                                                                  \n",
            " flatten (Flatten)              (None, 2048)         0           ['conv2d_21[0][0]']              \n",
            "                                                                                                  \n",
            " flatten_1 (Flatten)            (None, 2048)         0           ['conv2d_40[0][0]']              \n",
            "                                                                                                  \n",
            " global_average_pooling2d (Glob  (None, 1280)        0           ['concatenate_8[0][0]']          \n",
            " alAveragePooling2D)                                                                              \n",
            "                                                                                                  \n",
            " dense (Dense)                  (None, 1024)         2098176     ['flatten[0][0]']                \n",
            "                                                                                                  \n",
            " dense_2 (Dense)                (None, 1024)         2098176     ['flatten_1[0][0]']              \n",
            "                                                                                                  \n",
            " dropout_2 (Dropout)            (None, 1280)         0           ['global_average_pooling2d[0][0]'\n",
            "                                                                 ]                                \n",
            "                                                                                                  \n",
            " dropout (Dropout)              (None, 1024)         0           ['dense[0][0]']                  \n",
            "                                                                                                  \n",
            " dropout_1 (Dropout)            (None, 1024)         0           ['dense_2[0][0]']                \n",
            "                                                                                                  \n",
            " dense_4 (Dense)                (None, 10)           12810       ['dropout_2[0][0]']              \n",
            "                                                                                                  \n",
            " dense_1 (Dense)                (None, 10)           10250       ['dropout[0][0]']                \n",
            "                                                                                                  \n",
            " dense_3 (Dense)                (None, 10)           10250       ['dropout_1[0][0]']              \n",
            "                                                                                                  \n",
            "==================================================================================================\n",
            "Total params: 11,358,718\n",
            "Trainable params: 11,358,718\n",
            "Non-trainable params: 0\n",
            "__________________________________________________________________________________________________\n"
          ]
        }
      ],
      "source": [
        "model = tf.keras.Model(inputlayer, [outputlayer, aux1dense2, aux2dense2], name=\"InceptionV1\")\n",
        "model.summary()"
      ]
    },
    {
      "cell_type": "code",
      "execution_count": null,
      "metadata": {
        "id": "nsD36V5TlgSS"
      },
      "outputs": [],
      "source": [
        "model.compile(loss=\"categorical_crossentropy\", optimizer=\"adam\", metrics=[\"accuracy\"])"
      ]
    },
    {
      "cell_type": "markdown",
      "metadata": {
        "id": "1tSOzwfg5haS"
      },
      "source": [
        "# **Train the model**"
      ]
    },
    {
      "cell_type": "markdown",
      "source": [
        "For accuracy and loss, we only really care about dense_4 loss and dense_4 accuracy as that is our final output, while the other denses' are for the auxiliary classifiers."
      ],
      "metadata": {
        "id": "3ZXyoKucsfOw"
      }
    },
    {
      "cell_type": "markdown",
      "source": [
        "Same with val_dense_4 and val_accuracy_4"
      ],
      "metadata": {
        "id": "pFYNE2SystXM"
      }
    },
    {
      "cell_type": "code",
      "execution_count": null,
      "metadata": {
        "colab": {
          "base_uri": "https://localhost:8080/"
        },
        "id": "xAuUmWWJlR7A",
        "outputId": "c92efc9c-122b-4f8f-e0b7-22ca4fef3266"
      },
      "outputs": [
        {
          "output_type": "stream",
          "name": "stdout",
          "text": [
            "Epoch 1/20\n",
            "328/328 [==============================] - 329s 964ms/step - loss: 6.3965 - dense_4_loss: 2.1588 - dense_1_loss: 2.1024 - dense_3_loss: 2.1352 - dense_4_accuracy: 0.2376 - dense_1_accuracy: 0.2572 - dense_3_accuracy: 0.2450 - val_loss: 5.9059 - val_dense_4_loss: 2.0169 - val_dense_1_loss: 1.8911 - val_dense_3_loss: 1.9979 - val_dense_4_accuracy: 0.2918 - val_dense_1_accuracy: 0.3270 - val_dense_3_accuracy: 0.3029\n",
            "Epoch 2/20\n",
            "328/328 [==============================] - 309s 942ms/step - loss: 5.5448 - dense_4_loss: 1.8856 - dense_1_loss: 1.7962 - dense_3_loss: 1.8630 - dense_4_accuracy: 0.3389 - dense_1_accuracy: 0.3680 - dense_3_accuracy: 0.3487 - val_loss: 4.8655 - val_dense_4_loss: 1.6519 - val_dense_1_loss: 1.5839 - val_dense_3_loss: 1.6298 - val_dense_4_accuracy: 0.4316 - val_dense_1_accuracy: 0.4568 - val_dense_3_accuracy: 0.4354\n",
            "Epoch 3/20\n",
            "328/328 [==============================] - 312s 950ms/step - loss: 4.6977 - dense_4_loss: 1.5988 - dense_1_loss: 1.5141 - dense_3_loss: 1.5848 - dense_4_accuracy: 0.4417 - dense_1_accuracy: 0.4749 - dense_3_accuracy: 0.4493 - val_loss: 4.2299 - val_dense_4_loss: 1.4336 - val_dense_1_loss: 1.3720 - val_dense_3_loss: 1.4244 - val_dense_4_accuracy: 0.4882 - val_dense_1_accuracy: 0.5076 - val_dense_3_accuracy: 0.5065\n",
            "Epoch 4/20\n",
            "328/328 [==============================] - 314s 956ms/step - loss: 4.1816 - dense_4_loss: 1.4213 - dense_1_loss: 1.3493 - dense_3_loss: 1.4110 - dense_4_accuracy: 0.5029 - dense_1_accuracy: 0.5341 - dense_3_accuracy: 0.5090 - val_loss: 3.8923 - val_dense_4_loss: 1.3470 - val_dense_1_loss: 1.2311 - val_dense_3_loss: 1.3142 - val_dense_4_accuracy: 0.5290 - val_dense_1_accuracy: 0.5668 - val_dense_3_accuracy: 0.5428\n",
            "Epoch 5/20\n",
            "328/328 [==============================] - 313s 954ms/step - loss: 3.7897 - dense_4_loss: 1.2872 - dense_1_loss: 1.2244 - dense_3_loss: 1.2781 - dense_4_accuracy: 0.5526 - dense_1_accuracy: 0.5778 - dense_3_accuracy: 0.5604 - val_loss: 3.6194 - val_dense_4_loss: 1.2381 - val_dense_1_loss: 1.1597 - val_dense_3_loss: 1.2215 - val_dense_4_accuracy: 0.5722 - val_dense_1_accuracy: 0.6005 - val_dense_3_accuracy: 0.5837\n",
            "Epoch 6/20\n",
            "328/328 [==============================] - 311s 947ms/step - loss: 3.4436 - dense_4_loss: 1.1675 - dense_1_loss: 1.1143 - dense_3_loss: 1.1618 - dense_4_accuracy: 0.5957 - dense_1_accuracy: 0.6158 - dense_3_accuracy: 0.6011 - val_loss: 3.2822 - val_dense_4_loss: 1.1139 - val_dense_1_loss: 1.0688 - val_dense_3_loss: 1.0995 - val_dense_4_accuracy: 0.6127 - val_dense_1_accuracy: 0.6238 - val_dense_3_accuracy: 0.6115\n",
            "Epoch 7/20\n",
            "328/328 [==============================] - 310s 944ms/step - loss: 3.1832 - dense_4_loss: 1.0764 - dense_1_loss: 1.0359 - dense_3_loss: 1.0709 - dense_4_accuracy: 0.6311 - dense_1_accuracy: 0.6490 - dense_3_accuracy: 0.6326 - val_loss: 3.1674 - val_dense_4_loss: 1.1039 - val_dense_1_loss: 1.0267 - val_dense_3_loss: 1.0368 - val_dense_4_accuracy: 0.6142 - val_dense_1_accuracy: 0.6482 - val_dense_3_accuracy: 0.6375\n",
            "Epoch 8/20\n",
            "328/328 [==============================] - 308s 939ms/step - loss: 2.9882 - dense_4_loss: 1.0067 - dense_1_loss: 0.9766 - dense_3_loss: 1.0050 - dense_4_accuracy: 0.6542 - dense_1_accuracy: 0.6663 - dense_3_accuracy: 0.6574 - val_loss: 3.0915 - val_dense_4_loss: 1.0630 - val_dense_1_loss: 0.9759 - val_dense_3_loss: 1.0526 - val_dense_4_accuracy: 0.6337 - val_dense_1_accuracy: 0.6616 - val_dense_3_accuracy: 0.6306\n",
            "Epoch 9/20\n",
            "328/328 [==============================] - 312s 952ms/step - loss: 2.8076 - dense_4_loss: 0.9378 - dense_1_loss: 0.9251 - dense_3_loss: 0.9447 - dense_4_accuracy: 0.6806 - dense_1_accuracy: 0.6872 - dense_3_accuracy: 0.6789 - val_loss: 2.8287 - val_dense_4_loss: 0.9502 - val_dense_1_loss: 0.9397 - val_dense_3_loss: 0.9388 - val_dense_4_accuracy: 0.6788 - val_dense_1_accuracy: 0.6795 - val_dense_3_accuracy: 0.6868\n",
            "Epoch 10/20\n",
            "328/328 [==============================] - 312s 952ms/step - loss: 2.6331 - dense_4_loss: 0.8820 - dense_1_loss: 0.8642 - dense_3_loss: 0.8869 - dense_4_accuracy: 0.6994 - dense_1_accuracy: 0.7070 - dense_3_accuracy: 0.6978 - val_loss: 2.6390 - val_dense_4_loss: 0.9085 - val_dense_1_loss: 0.8468 - val_dense_3_loss: 0.8837 - val_dense_4_accuracy: 0.6960 - val_dense_1_accuracy: 0.7108 - val_dense_3_accuracy: 0.7074\n",
            "Epoch 11/20\n",
            "328/328 [==============================] - 312s 950ms/step - loss: 2.4919 - dense_4_loss: 0.8298 - dense_1_loss: 0.8205 - dense_3_loss: 0.8416 - dense_4_accuracy: 0.7188 - dense_1_accuracy: 0.7221 - dense_3_accuracy: 0.7167 - val_loss: 2.7262 - val_dense_4_loss: 0.9205 - val_dense_1_loss: 0.9048 - val_dense_3_loss: 0.9009 - val_dense_4_accuracy: 0.6948 - val_dense_1_accuracy: 0.7063 - val_dense_3_accuracy: 0.6963\n",
            "Epoch 12/20\n",
            "328/328 [==============================] - 310s 944ms/step - loss: 2.3621 - dense_4_loss: 0.7851 - dense_1_loss: 0.7800 - dense_3_loss: 0.7970 - dense_4_accuracy: 0.7343 - dense_1_accuracy: 0.7355 - dense_3_accuracy: 0.7304 - val_loss: 2.3706 - val_dense_4_loss: 0.8021 - val_dense_1_loss: 0.7775 - val_dense_3_loss: 0.7910 - val_dense_4_accuracy: 0.7338 - val_dense_1_accuracy: 0.7410 - val_dense_3_accuracy: 0.7319\n",
            "Epoch 13/20\n",
            "328/328 [==============================] - 311s 946ms/step - loss: 2.2893 - dense_4_loss: 0.7640 - dense_1_loss: 0.7552 - dense_3_loss: 0.7702 - dense_4_accuracy: 0.7450 - dense_1_accuracy: 0.7477 - dense_3_accuracy: 0.7424 - val_loss: 2.3816 - val_dense_4_loss: 0.7963 - val_dense_1_loss: 0.7848 - val_dense_3_loss: 0.8005 - val_dense_4_accuracy: 0.7372 - val_dense_1_accuracy: 0.7380 - val_dense_3_accuracy: 0.7403\n",
            "Epoch 14/20\n",
            "328/328 [==============================] - 307s 935ms/step - loss: 2.1635 - dense_4_loss: 0.7164 - dense_1_loss: 0.7178 - dense_3_loss: 0.7294 - dense_4_accuracy: 0.7607 - dense_1_accuracy: 0.7612 - dense_3_accuracy: 0.7571 - val_loss: 2.2482 - val_dense_4_loss: 0.7676 - val_dense_1_loss: 0.7374 - val_dense_3_loss: 0.7433 - val_dense_4_accuracy: 0.7521 - val_dense_1_accuracy: 0.7529 - val_dense_3_accuracy: 0.7552\n",
            "Epoch 15/20\n",
            "328/328 [==============================] - 306s 934ms/step - loss: 2.0568 - dense_4_loss: 0.6812 - dense_1_loss: 0.6846 - dense_3_loss: 0.6910 - dense_4_accuracy: 0.7699 - dense_1_accuracy: 0.7702 - dense_3_accuracy: 0.7702 - val_loss: 2.2747 - val_dense_4_loss: 0.7593 - val_dense_1_loss: 0.7405 - val_dense_3_loss: 0.7749 - val_dense_4_accuracy: 0.7513 - val_dense_1_accuracy: 0.7513 - val_dense_3_accuracy: 0.7475\n",
            "Epoch 16/20\n",
            "328/328 [==============================] - 307s 936ms/step - loss: 1.9887 - dense_4_loss: 0.6580 - dense_1_loss: 0.6665 - dense_3_loss: 0.6643 - dense_4_accuracy: 0.7773 - dense_1_accuracy: 0.7757 - dense_3_accuracy: 0.7773 - val_loss: 2.0680 - val_dense_4_loss: 0.6968 - val_dense_1_loss: 0.6911 - val_dense_3_loss: 0.6802 - val_dense_4_accuracy: 0.7693 - val_dense_1_accuracy: 0.7693 - val_dense_3_accuracy: 0.7704\n",
            "Epoch 17/20\n",
            "328/328 [==============================] - 306s 932ms/step - loss: 1.9016 - dense_4_loss: 0.6240 - dense_1_loss: 0.6378 - dense_3_loss: 0.6397 - dense_4_accuracy: 0.7912 - dense_1_accuracy: 0.7850 - dense_3_accuracy: 0.7872 - val_loss: 2.0798 - val_dense_4_loss: 0.6919 - val_dense_1_loss: 0.6920 - val_dense_3_loss: 0.6960 - val_dense_4_accuracy: 0.7632 - val_dense_1_accuracy: 0.7704 - val_dense_3_accuracy: 0.7689\n",
            "Epoch 18/20\n",
            "328/328 [==============================] - 308s 940ms/step - loss: 1.8669 - dense_4_loss: 0.6169 - dense_1_loss: 0.6233 - dense_3_loss: 0.6268 - dense_4_accuracy: 0.7908 - dense_1_accuracy: 0.7894 - dense_3_accuracy: 0.7913 - val_loss: 2.1808 - val_dense_4_loss: 0.7453 - val_dense_1_loss: 0.7110 - val_dense_3_loss: 0.7245 - val_dense_4_accuracy: 0.7613 - val_dense_1_accuracy: 0.7628 - val_dense_3_accuracy: 0.7670\n",
            "Epoch 19/20\n",
            "328/328 [==============================] - 306s 933ms/step - loss: 1.8028 - dense_4_loss: 0.5918 - dense_1_loss: 0.6085 - dense_3_loss: 0.6025 - dense_4_accuracy: 0.8008 - dense_1_accuracy: 0.7957 - dense_3_accuracy: 0.8015 - val_loss: 2.1059 - val_dense_4_loss: 0.7141 - val_dense_1_loss: 0.6984 - val_dense_3_loss: 0.6934 - val_dense_4_accuracy: 0.7548 - val_dense_1_accuracy: 0.7605 - val_dense_3_accuracy: 0.7590\n",
            "Epoch 20/20\n",
            "328/328 [==============================] - 305s 931ms/step - loss: 1.7085 - dense_4_loss: 0.5607 - dense_1_loss: 0.5754 - dense_3_loss: 0.5724 - dense_4_accuracy: 0.8129 - dense_1_accuracy: 0.8068 - dense_3_accuracy: 0.8120 - val_loss: 1.9672 - val_dense_4_loss: 0.6620 - val_dense_1_loss: 0.6548 - val_dense_3_loss: 0.6504 - val_dense_4_accuracy: 0.7869 - val_dense_1_accuracy: 0.7869 - val_dense_3_accuracy: 0.7823\n"
          ]
        }
      ],
      "source": [
        "history = model.fit(traindata, epochs=20, validation_data=validdata)"
      ]
    },
    {
      "cell_type": "code",
      "execution_count": null,
      "metadata": {
        "colab": {
          "base_uri": "https://localhost:8080/",
          "height": 475
        },
        "id": "xVU_fVzL8Td6",
        "outputId": "5a34850c-2a7d-42fc-f403-17bec60cbf94"
      },
      "outputs": [
        {
          "output_type": "execute_result",
          "data": {
            "text/plain": [
              "<matplotlib.legend.Legend at 0x7fcabc10ffd0>"
            ]
          },
          "metadata": {},
          "execution_count": 23
        },
        {
          "output_type": "display_data",
          "data": {
            "text/plain": [
              "<Figure size 504x504 with 1 Axes>"
            ],
            "image/png": "[encoded data removed]"
          },
          "metadata": {
            "needs_background": "light"
          }
        }
      ],
      "source": [
        "plt.figure(figsize=(7,7))\n",
        "plt.plot(history.history[\"loss\"], label=\"Training Loss\")\n",
        "plt.plot(history.history[\"val_loss\"], label=\"Validation Loss\", color = \"red\")\n",
        "plt.xlabel(\"epochs\")\n",
        "plt.ylabel(\"Loss\")\n",
        "plt.grid()\n",
        "plt.title(\"Training vs Validation Loss\")\n",
        "plt.legend()"
      ]
    },
    {
      "cell_type": "code",
      "execution_count": null,
      "metadata": {
        "colab": {
          "base_uri": "https://localhost:8080/",
          "height": 475
        },
        "id": "M63eYdGn8TWg",
        "outputId": "cc4c0176-eb72-48fe-ba30-fcec51741956"
      },
      "outputs": [
        {
          "output_type": "execute_result",
          "data": {
            "text/plain": [
              "<matplotlib.legend.Legend at 0x7fcabc03d8e0>"
            ]
          },
          "metadata": {},
          "execution_count": 24
        },
        {
          "output_type": "display_data",
          "data": {
            "text/plain": [
              "<Figure size 504x504 with 1 Axes>"
            ],
            "image/png": "[encoded data removed]"
          },
          "metadata": {
            "needs_background": "light"
          }
        }
      ],
      "source": [
        "plt.figure(figsize=(7,7))\n",
        "plt.plot(history.history[\"dense_4_accuracy\"], label=\"Training Accuracy\")\n",
        "plt.plot(history.history[\"val_dense_4_accuracy\"], label=\"Validation Accuracy\", color = \"red\")\n",
        "plt.xlabel(\"epochs\")\n",
        "plt.ylabel(\"accuracy\")\n",
        "plt.grid()\n",
        "plt.title(\"Training vs Validation Accuracy\")\n",
        "plt.legend()"
      ]
    },
    {
      "cell_type": "code",
      "execution_count": null,
      "metadata": {
        "colab": {
          "base_uri": "https://localhost:8080/"
        },
        "id": "E8JvQ6_iAFPi",
        "outputId": "9d21b6c5-6062-4413-eac6-b6de3c8d1d46"
      },
      "outputs": [
        {
          "output_type": "stream",
          "name": "stdout",
          "text": [
            "655/655 [==============================] - 37s 56ms/step - loss: 1.9083 - dense_4_loss: 0.6361 - dense_1_loss: 0.6408 - dense_3_loss: 0.6313 - dense_4_accuracy: 0.7895 - dense_1_accuracy: 0.7895 - dense_3_accuracy: 0.7880\n"
          ]
        }
      ],
      "source": [
        "score = model.evaluate(testdata)"
      ]
    }
  ],
  "metadata": {
    "accelerator": "GPU",
    "colab": {
      "machine_shape": "hm",
      "provenance": [],
      "collapsed_sections": [
        "BLzRfVap7pOX"
      ]
    },
    "gpuClass": "premium",
    "kernelspec": {
      "display_name": "Python 3",
      "name": "python3"
    },
    "language_info": {
      "name": "python"
    }
  },
  "nbformat": 4,
  "nbformat_minor": 0
}